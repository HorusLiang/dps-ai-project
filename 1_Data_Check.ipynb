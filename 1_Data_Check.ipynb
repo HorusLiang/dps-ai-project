{
 "cells": [
  {
   "cell_type": "code",
   "execution_count": 13,
   "metadata": {},
   "outputs": [],
   "source": [
    "# Import Libraries\n",
    "import pandas as pd\n",
    "import matplotlib.pyplot as plt\n",
    "import numpy as np"
   ]
  },
  {
   "cell_type": "code",
   "execution_count": 14,
   "metadata": {},
   "outputs": [],
   "source": [
    "# Read Data\n",
    "df=pd.read_csv('monatszahlen2307_verkehrsunfaelle_10_07_23_nosum.csv')"
   ]
  },
  {
   "cell_type": "code",
   "execution_count": 15,
   "metadata": {},
   "outputs": [],
   "source": [
    "# Convert German Feature Names to English\n",
    "column_name_mapping = {\n",
    "    \"MONATSZAHL\": \"Category\",\n",
    "    \"AUSPRAEGUNG\": \"Accident-type\",\n",
    "    \"JAHR\": \"Year\",\n",
    "    \"MONAT\": \"Month\",\n",
    "    \"WERT\": \"Value\",\n",
    "    \"VORJAHRESWERT\": \"Previous_Year_Value\",\n",
    "    \"VERAEND_VORMONAT_PROZENT\": \"Change_From_Previous_Month_Percentage\",\n",
    "    \"VERAEND_VORJAHRESMONAT_PROZENT\": \"Change_From_Previous_Year_Month_Percentage\",\n",
    "    \"ZWOELF_MONATE_MITTELWERT\": \"Twelve_Month_Average\"\n",
    "}\n",
    "df=df.rename(columns=column_name_mapping)"
   ]
  },
  {
   "cell_type": "code",
   "execution_count": 16,
   "metadata": {},
   "outputs": [],
   "source": [
    "# Explore Data Only Before 2021\n",
    "df = df[df['Year'] < 2021]"
   ]
  },
  {
   "cell_type": "code",
   "execution_count": 18,
   "metadata": {},
   "outputs": [],
   "source": [
    "# From \"Convert German feature names to English\" segment\n",
    "# you can see that some features are computed from \"Value\"\n",
    "# and more features need to be computed from Value in the future\n",
    "# so we don't need to study these features here for now\n",
    "\n",
    "columns_to_exclude = ['Previous_Year_Value', 'Change_From_Previous_Month_Percentage', \n",
    "                      'Change_From_Previous_Year_Month_Percentage', 'Twelve_Month_Average']\n",
    "df = df.drop(columns=[col for col in columns_to_exclude if col in df.columns])\n"
   ]
  },
  {
   "cell_type": "code",
   "execution_count": 21,
   "metadata": {},
   "outputs": [],
   "source": [
    "# Define Category-Accident Group\n",
    "unique_combinations = df[['Category', 'Accident-type']].drop_duplicates()"
   ]
  },
  {
   "cell_type": "code",
   "execution_count": 22,
   "metadata": {},
   "outputs": [
    {
     "name": "stdout",
     "output_type": "stream",
     "text": [
      "Category: Alkoholunfälle, Accident-type: insgesamt - Each 'Month' has only one 'Value'\n",
      "Category: Alkoholunfälle, Accident-type: Verletzte und Getötete - Each 'Month' has only one 'Value'\n",
      "Category: Fluchtunfälle, Accident-type: insgesamt - Each 'Month' has only one 'Value'\n",
      "Category: Fluchtunfälle, Accident-type: Verletzte und Getötete - Each 'Month' has only one 'Value'\n",
      "Category: Verkehrsunfälle, Accident-type: insgesamt - Each 'Month' has only one 'Value'\n",
      "Category: Verkehrsunfälle, Accident-type: mit Personenschäden - Each 'Month' has only one 'Value'\n",
      "Category: Verkehrsunfälle, Accident-type: Verletzte und Getötete - Each 'Month' has only one 'Value'\n"
     ]
    }
   ],
   "source": [
    "# Validate Unique Monthly Values for Each Category-Accident Group\n",
    "for index, row in unique_combinations.iterrows():\n",
    "    filtered_data = df[(df['Category'] == row['Category']) & (df['Accident-type'] == row['Accident-type'])]\n",
    "    value_counts = filtered_data.groupby('Month')['Value'].nunique()\n",
    "    \n",
    "    if (value_counts > 1).any():\n",
    "        print(f\"Category: {row['Category']}, Accident-type: {row['Accident-type']} - Some 'Month' values have multiple 'Value' values\")\n",
    "    else:\n",
    "        print(f\"Category: {row['Category']}, Accident-type: {row['Accident-type']} - Each 'Month' has only one 'Value'\")\n",
    "\n",
    "\n",
    "# It can also be seen here that some Categories correspond to two Accident-types \n",
    "# and some to three.\n"
   ]
  },
  {
   "cell_type": "code",
   "execution_count": 24,
   "metadata": {},
   "outputs": [
    {
     "name": "stdout",
     "output_type": "stream",
     "text": [
      "Category: Alkoholunfälle, Accident-type: insgesamt, Sorted Month Range: 200001 to 202012\n",
      "Category: Alkoholunfälle, Accident-type: Verletzte und Getötete, Sorted Month Range: 200001 to 202012\n",
      "Category: Fluchtunfälle, Accident-type: insgesamt, Sorted Month Range: 200001 to 202012\n",
      "Category: Fluchtunfälle, Accident-type: Verletzte und Getötete, Sorted Month Range: 200001 to 202012\n",
      "Category: Verkehrsunfälle, Accident-type: insgesamt, Sorted Month Range: 200001 to 202012\n",
      "Category: Verkehrsunfälle, Accident-type: mit Personenschäden, Sorted Month Range: 200001 to 202012\n",
      "Category: Verkehrsunfälle, Accident-type: Verletzte und Getötete, Sorted Month Range: 200001 to 202012\n"
     ]
    }
   ],
   "source": [
    "# Check Sorted Month Range for Each Category-Accident Group\n",
    "for _, row in unique_combinations.iterrows():\n",
    "    # Filter and sort the data by 'Month' for the current combination\n",
    "    filtered_data = df[(df['Category'] == row['Category']) & (df['Accident-type'] == row['Accident-type'])]\n",
    "    sorted_data = filtered_data.sort_values(by='Month')\n",
    "\n",
    "    # Extract the minimum and maximum month values for each sorted group\n",
    "    min_month = sorted_data['Month'].iloc[0]\n",
    "    max_month = sorted_data['Month'].iloc[-1]\n",
    "    \n",
    "    print(f\"Category: {row['Category']}, Accident-type: {row['Accident-type']}, Sorted Month Range: {min_month} to {max_month}\")\n"
   ]
  },
  {
   "cell_type": "code",
   "execution_count": null,
   "metadata": {},
   "outputs": [],
   "source": [
    "# 1. \"Check for Duplicate rows\": \n",
    "#   Confirms that there are no duplicate rows in the dataset.\n",
    "# 2. \"Validate Unique Monthly Values for Each Category-Accident Group\": \n",
    "#   Ensures that for each group and each timestamp, there are no multiple 'Value' entries.\n",
    "# 3. \"Check Sorted Month Range for Each Category-Accident Group\": \n",
    "#   Verifies that the timestamp range for each group is consistent\n",
    "\n",
    "# Final Conclusion: \n",
    "# The data quality is satisfactory\n",
    "# indicating that the timestamp range for each group is consistent and timestamp values are unique\n",
    "# with each timestamp uniquely corresponding to a single 'Value'.\n"
   ]
  },
  {
   "cell_type": "code",
   "execution_count": 28,
   "metadata": {},
   "outputs": [
    {
     "name": "stdout",
     "output_type": "stream",
     "text": [
      "Missing Values Report:\n",
      "     Column Name  Missing Values  Missing Percentage\n",
      "0       Category               0                 0.0\n",
      "1  Accident-type               0                 0.0\n",
      "2           Year               0                 0.0\n",
      "3          Month               0                 0.0\n",
      "4          Value               0                 0.0\n"
     ]
    }
   ],
   "source": [
    "# Missing Value Report\n",
    "missing_values = df.isnull().sum()\n",
    "total_rows = len(df)\n",
    "missing_percentage = (missing_values / total_rows) * 100\n",
    "missing_report = pd.DataFrame({\n",
    "    'Column Name': missing_values.index,\n",
    "    'Missing Values': missing_values.values,\n",
    "    'Missing Percentage': missing_percentage.values\n",
    "})\n",
    "print(\"Missing Values Report:\")\n",
    "print(missing_report)"
   ]
  },
  {
   "cell_type": "code",
   "execution_count": 49,
   "metadata": {},
   "outputs": [
    {
     "name": "stdout",
     "output_type": "stream",
     "text": [
      "In category 'Alkoholunfälle', comparing 'insgesamt' vs 'Verletzte und Getötete':\n",
      "Number of months greater: 241\n",
      "Number of months less: 0\n",
      "Number of months equal: 0\n",
      "\n",
      "In category 'Fluchtunfälle', comparing 'insgesamt' vs 'Verletzte und Getötete':\n",
      "Number of months greater: 241\n",
      "Number of months less: 0\n",
      "Number of months equal: 0\n",
      "\n",
      "In category 'Verkehrsunfälle', comparing 'insgesamt' vs 'mit Personenschäden':\n",
      "Number of months greater: 241\n",
      "Number of months less: 0\n",
      "Number of months equal: 0\n",
      "\n",
      "In category 'Verkehrsunfälle', comparing 'insgesamt' vs 'Verletzte und Getötete':\n",
      "Number of months greater: 241\n",
      "Number of months less: 0\n",
      "Number of months equal: 0\n",
      "\n",
      "In category 'Verkehrsunfälle', comparing 'mit Personenschäden' vs 'Verletzte und Getötete':\n",
      "Number of months greater: 3\n",
      "Number of months less: 236\n",
      "Number of months equal: 2\n",
      "\n"
     ]
    }
   ],
   "source": [
    "# Accident Type Comparison Analysis\n",
    "# Convert 'Month' column to string\n",
    "df['Month'] = df['Month'].astype(str)\n",
    "\n",
    "# Analyze each category for accident type comparisons\n",
    "for category in df['Category'].unique():\n",
    "    accident_types = df[df['Category'] == category]['Accident-type'].unique()\n",
    "\n",
    "    for i in range(len(accident_types)):\n",
    "        for j in range(i + 1, len(accident_types)):\n",
    "            accident_type_1 = accident_types[i]\n",
    "            accident_type_2 = accident_types[j]\n",
    "\n",
    "            greater_count, less_count, equal_count = 0, 0, 0\n",
    "            category_months = df[df['Category'] == category]['Month'].unique()\n",
    "\n",
    "            for month in category_months:\n",
    "                value_type_1 = df[(df['Category'] == category) &\n",
    "                                          (df['Accident-type'] == accident_type_1) &\n",
    "                                          (df['Month'] == month)]['Value'].max()\n",
    "                value_type_2 = df[(df['Category'] == category) &\n",
    "                                          (df['Accident-type'] == accident_type_2) &\n",
    "                                          (df['Month'] == month)]['Value'].max()\n",
    "\n",
    "                if value_type_1 > value_type_2:\n",
    "                    greater_count += 1\n",
    "                elif value_type_1 < value_type_2:\n",
    "                    less_count += 1\n",
    "                else:\n",
    "                    equal_count += 1\n",
    "\n",
    "            print(f\"In category '{category}', comparing '{accident_type_1}' vs '{accident_type_2}':\")\n",
    "            print(f\"Number of months greater: {greater_count}\")\n",
    "            print(f\"Number of months less: {less_count}\")\n",
    "            print(f\"Number of months equal: {equal_count}\\n\")\n",
    "\n",
    "# Conclusion\n",
    "# In the category 'Verkehrsunfälle', as understood by the literal meaning, the values for 'mit Personenschäden' \n",
    "# should be less than or equal to those for 'Verletzte und Getötete'. \n",
    "# However, the last part of report indicates that \n",
    "# there are three months where 'mit Personenschäden' has greater values. \n",
    "# This discrepancy could be due to errors in data collection or entry.\n",
    "\n",
    "# Across all categories, the values for 'insgesamt' should be greater than or equal to other accident types. \n",
    "# The report confirms this observation, aligning with the expected data consistency."
   ]
  },
  {
   "cell_type": "code",
   "execution_count": null,
   "metadata": {},
   "outputs": [],
   "source": []
  },
  {
   "cell_type": "code",
   "execution_count": null,
   "metadata": {},
   "outputs": [],
   "source": []
  },
  {
   "cell_type": "code",
   "execution_count": null,
   "metadata": {},
   "outputs": [],
   "source": []
  },
  {
   "cell_type": "code",
   "execution_count": null,
   "metadata": {},
   "outputs": [],
   "source": []
  },
  {
   "cell_type": "code",
   "execution_count": null,
   "metadata": {},
   "outputs": [],
   "source": []
  }
 ],
 "metadata": {
  "kernelspec": {
   "display_name": "dps-ai-project",
   "language": "python",
   "name": "python3"
  },
  "language_info": {
   "codemirror_mode": {
    "name": "ipython",
    "version": 3
   },
   "file_extension": ".py",
   "mimetype": "text/x-python",
   "name": "python",
   "nbconvert_exporter": "python",
   "pygments_lexer": "ipython3",
   "version": "3.9.18"
  }
 },
 "nbformat": 4,
 "nbformat_minor": 2
}
